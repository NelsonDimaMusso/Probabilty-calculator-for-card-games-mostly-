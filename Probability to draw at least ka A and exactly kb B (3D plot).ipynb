{
 "cells": [
  {
   "cell_type": "code",
   "execution_count": 1,
   "id": "f71b7a18",
   "metadata": {},
   "outputs": [
    {
     "data": {
      "text/html": [
       "\n",
       "        <iframe\n",
       "            width=\"100%\"\n",
       "            height=\"650\"\n",
       "            src=\"http://127.0.0.1:8050/\"\n",
       "            frameborder=\"0\"\n",
       "            allowfullscreen\n",
       "            \n",
       "        ></iframe>\n",
       "        "
      ],
      "text/plain": [
       "<IPython.lib.display.IFrame at 0x285671fdbe0>"
      ]
     },
     "metadata": {},
     "output_type": "display_data"
    },
    {
     "name": "stderr",
     "output_type": "stream",
     "text": [
      "C:\\Users\\nelso\\AppData\\Local\\Temp\\ipykernel_10708\\846061322.py:27: RuntimeWarning:\n",
      "\n",
      "invalid value encountered in scalar divide\n",
      "\n"
     ]
    }
   ],
   "source": [
    "# -*- coding: utf-8 -*-\n",
    "\"\"\"\n",
    "Created on Fri Feb 21 11:33:00 2025\n",
    "\n",
    "@author: nelso\n",
    "\"\"\"\n",
    "\n",
    "import numpy as np\n",
    "import plotly.graph_objects as go\n",
    "import plotly.io as pio\n",
    "from scipy.special import comb\n",
    "import dash\n",
    "from dash import dcc, html\n",
    "from dash.dependencies import Input, Output\n",
    "import webbrowser\n",
    "\n",
    "#Function to calculate the probability to have at least ka A and exactly kb B\n",
    "def prob_at_least_ka_and_exactly_kb(KA, KB, total_cards, hand_size, ka, kb):\n",
    "    total_hands = comb(total_cards, hand_size)\n",
    "    Z = np.zeros((len(KA), len(KB)), dtype=float)\n",
    "    \n",
    "    for i, ka_val in enumerate(KA):\n",
    "        for j, kb_val in enumerate(KB):\n",
    "            prob_sum = 0\n",
    "            other_cards = total_cards - ka_val - kb_val\n",
    "            for xa in range(ka, min(ka_val, hand_size) + 1):\n",
    "                prob_sum += (comb(ka_val, xa) * comb(other_cards, hand_size - xa - kb)) / comb(total_cards - kb_val, hand_size - kb)\n",
    "            prob_exact_kbB = comb(kb_val, kb) * comb(total_cards - kb_val, hand_size - kb) / total_hands\n",
    "            Z[i, j] = prob_sum * prob_exact_kbB\n",
    "    \n",
    "    return Z\n",
    "\n",
    "#We use dash\n",
    "app = dash.Dash(__name__)\n",
    "\n",
    "#Layout of the application\n",
    "app.layout = html.Div([\n",
    "    html.H1(\"Distribution of Probabilities - At least ka and exactly kb (3D)\"),\n",
    "    dcc.Graph(id='3d-plot', style={'height': '700px'}),  #3D Plot\n",
    "    html.Label(\"Total Cards\"),\n",
    "    dcc.Slider(id='total-cards', min=40, max=60, step=1, value=40, marks={i: str(i) for i in range(40, 61, 5)}),\n",
    "    html.Label(\"Hand Size\"),\n",
    "    dcc.Slider(id='hand-size', min=1, max=60, step=1, value=5, marks={i: str(i) for i in range(1, 61, 5)}),\n",
    "    html.Label(\"ka\"),\n",
    "    dcc.Slider(id='ka', min=0, max=10, step=1, value=2, marks={i: str(i) for i in range(0, 11)}),\n",
    "    html.Label(\"kb\"),\n",
    "    dcc.Slider(id='kb', min=0, max=10, step=1, value=1, marks={i: str(i) for i in range(0, 11)})\n",
    "])\n",
    "\n",
    "# Callback to update the graph\n",
    "@app.callback(\n",
    "    Output('3d-plot', 'figure'),\n",
    "    [Input('total-cards', 'value'),\n",
    "     Input('hand-size', 'value'),\n",
    "     Input('ka', 'value'),\n",
    "     Input('kb', 'value')]\n",
    ")\n",
    "def update_plot(total_cards, hand_size, ka, kb):\n",
    "    if hand_size > total_cards:\n",
    "        hand_size = total_cards  #to be sure that hand-size is not higher than total_cards\n",
    "    \n",
    "    KA_values = np.arange(0, total_cards + 1)\n",
    "    KB_values = np.arange(0, total_cards + 1)\n",
    "    Z = prob_at_least_ka_and_exactly_kb(KA_values, KB_values, total_cards, hand_size, ka, kb)\n",
    "    \n",
    "    KA_grid, KB_grid = np.meshgrid(KA_values, KB_values)\n",
    "    \n",
    "    fig = go.Figure(data=[go.Surface(x=KA_grid, y=KB_grid, z=Z.T)])\n",
    "    fig.update_layout(\n",
    "        scene=dict(\n",
    "            xaxis_title='Number of copies of A (KA)',\n",
    "            yaxis_title='Number of copies of B (KB)',\n",
    "            zaxis_title=f'Probability of drawing at least {ka} A and exactly {kb} B'\n",
    "        ),\n",
    "        title=f'Evolution of P(at least {ka} A and exactly {kb} B) depending on KA and KB',\n",
    "        width=1000,\n",
    "        height=700\n",
    "    )\n",
    "    return fig\n",
    "\n",
    "#Open page automatically in browser\n",
    "if __name__ == '__main__':\n",
    "    webbrowser.open('http://127.0.0.1:8050')\n",
    "    #app.run_server(debug=True)\n",
    "    app.run(debug=True, port=8050)"
   ]
  }
 ],
 "metadata": {
  "kernelspec": {
   "display_name": "Python 3",
   "language": "python",
   "name": "python3"
  },
  "language_info": {
   "codemirror_mode": {
    "name": "ipython",
    "version": 3
   },
   "file_extension": ".py",
   "mimetype": "text/x-python",
   "name": "python",
   "nbconvert_exporter": "python",
   "pygments_lexer": "ipython3",
   "version": "3.13.2"
  }
 },
 "nbformat": 4,
 "nbformat_minor": 5
}
