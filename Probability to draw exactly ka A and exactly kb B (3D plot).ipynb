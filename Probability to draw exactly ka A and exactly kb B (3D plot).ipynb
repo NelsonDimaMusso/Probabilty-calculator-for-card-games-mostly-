{
 "cells": [
  {
   "cell_type": "code",
   "execution_count": 1,
   "id": "03219733",
   "metadata": {},
   "outputs": [
    {
     "data": {
      "text/html": [
       "\n",
       "        <iframe\n",
       "            width=\"100%\"\n",
       "            height=\"650\"\n",
       "            src=\"http://127.0.0.1:8051/\"\n",
       "            frameborder=\"0\"\n",
       "            allowfullscreen\n",
       "            \n",
       "        ></iframe>\n",
       "        "
      ],
      "text/plain": [
       "<IPython.lib.display.IFrame at 0x1c9ffb49be0>"
      ]
     },
     "metadata": {},
     "output_type": "display_data"
    }
   ],
   "source": [
    "# -*- coding: utf-8 -*-\n",
    "\"\"\"\n",
    "Created on Thu Feb 20 13:18:31 2025\n",
    "\n",
    "@author: nelso\n",
    "\"\"\"\n",
    "\n",
    "import numpy as np\n",
    "import plotly.graph_objects as go\n",
    "import plotly.io as pio\n",
    "from scipy.special import comb\n",
    "import dash\n",
    "from dash import dcc, html\n",
    "from dash.dependencies import Input, Output\n",
    "import webbrowser\n",
    "\n",
    "#Function to calculate the probability to have exactly ka A and exactly kb B\n",
    "def prob_exactly_ka_and_exactly_kb(KA, KB, total_cards, hand_size, ka, kb):\n",
    "    total_hands = comb(total_cards, hand_size)\n",
    "    other_cards = total_cards - KA - KB\n",
    "    \n",
    "    valid_mask = (KA >= ka) & (KB >= kb) & (other_cards >= (hand_size - ka - kb))\n",
    "    prob = np.zeros_like(KA, dtype=float)\n",
    "    prob[valid_mask] = (\n",
    "        comb(KA[valid_mask], ka) *\n",
    "        comb(KB[valid_mask], kb) *\n",
    "        comb(other_cards[valid_mask], hand_size - ka - kb)\n",
    "    ) / total_hands\n",
    "    \n",
    "    return prob\n",
    "\n",
    "#We use dash\n",
    "app = dash.Dash(__name__)\n",
    "\n",
    "#Layout of the application\n",
    "app.layout = html.Div([\n",
    "    html.H1(\"Distribution of Probabilities - exactly ka and exactly kb (3D)\"),\n",
    "    dcc.Graph(id='3d-plot', style={'height': '800px'}),  # just to upgrade the size of the graph\n",
    "    html.Label(\"Total Cards\"),\n",
    "    dcc.Slider(id='total-cards', min=40, max=60, step=1, value=40, marks={i: str(i) for i in range(40, 61, 5)}),\n",
    "    html.Label(\"Hand Size\"),\n",
    "    dcc.Slider(id='hand-size', min=0, max=60, step=1, value=5, marks={i: str(i) for i in range(0, 61, 5)}),\n",
    "    html.Label(\"ka\"),\n",
    "    dcc.Slider(id='ka', min=0, max=5, step=1, value=2, marks={i: str(i) for i in range(0, 6)}),\n",
    "    html.Label(\"kb\"),\n",
    "    dcc.Slider(id='kb', min=0, max=5, step=1, value=1, marks={i: str(i) for i in range(0, 6)})\n",
    "])\n",
    "\n",
    "# Callback to update the graph\n",
    "@app.callback(\n",
    "    Output('3d-plot', 'figure'),\n",
    "    [Input('total-cards', 'value'),\n",
    "     Input('hand-size', 'value'),\n",
    "     Input('ka', 'value'),\n",
    "     Input('kb', 'value')]\n",
    ")\n",
    "def update_plot(total_cards, hand_size, ka, kb):\n",
    "    KA_values = np.arange(0, total_cards + 1)\n",
    "    KB_values = np.arange(0, total_cards + 1)\n",
    "    KA, KB = np.meshgrid(KA_values, KB_values)\n",
    "    Z = prob_exactly_ka_and_exactly_kb(KA, KB, total_cards, hand_size, ka, kb)\n",
    "    \n",
    "    fig = go.Figure(data=[go.Surface(z=Z, x=KA_values, y=KB_values, colorscale='Viridis')])\n",
    "    fig.update_layout(\n",
    "        scene=dict(\n",
    "            xaxis_title='Number of copies of A (KA)',\n",
    "            yaxis_title='Number of copies of B (KB)',\n",
    "            zaxis_title=f'Probability of drawing exactly {ka} A and exactly {kb} B',\n",
    "        ),\n",
    "        title=f'Evolution of P(exactly {ka} A and exactly {kb} B) depending on KA and KB',\n",
    "        width=1000,  #to upgrade the weigth\n",
    "        height=800   #to upgrade the heigth\n",
    "    )\n",
    "    return fig\n",
    "\n",
    "\n",
    "#Open page automatically in browser\n",
    "if __name__ == '__main__':\n",
    "    webbrowser.open('http://127.0.0.1:8051')\n",
    "    app.run(debug=True, port=8051)\n"
   ]
  }
 ],
 "metadata": {
  "kernelspec": {
   "display_name": "Python 3",
   "language": "python",
   "name": "python3"
  },
  "language_info": {
   "codemirror_mode": {
    "name": "ipython",
    "version": 3
   },
   "file_extension": ".py",
   "mimetype": "text/x-python",
   "name": "python",
   "nbconvert_exporter": "python",
   "pygments_lexer": "ipython3",
   "version": "3.13.2"
  }
 },
 "nbformat": 4,
 "nbformat_minor": 5
}
